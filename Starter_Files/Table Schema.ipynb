{
 "cells": [
  {
   "cell_type": "code",
   "execution_count": null,
   "id": "4fcc4050-8fca-4f7c-9a49-9cdd2c97f121",
   "metadata": {},
   "outputs": [],
   "source": [
    "CREATE TABLE \"Campaign\" (\n",
    "    \"cf_id\" int NOT NULL,\n",
    "    \"contact_id\" int NOT NULL,\n",
    "    \"company_name\" varchar(200) NOT NULL,\n",
    "    \"description\" text NOT NULL,\n",
    "    \"goal\" numeric(10,2) NOT NULL,\n",
    "    \"pledged\" numeric(10,2) NOT NULL,\n",
    "    \"outcome\" varchar(50) NOT NULL, \n",
    "    \"backers_count\" int NOT NULL,\n",
    "    \"country\" varchar(50) NOT NULL,\n",
    "    \"currency\" varchar(10) NOT NULL,\n",
    "    \"launch_date\" datetime NOT NULL,\n",
    "    \"category_id\" varchar(10) NOT NULL,\n",
    "    \"subcategory_id\" varchar(10) NOT NULL,\n",
    "    CONSTRAINT \"pk_campaign\" PRIMARY KEY (\n",
    "        \"cf_id\"\n",
    "    )\n",
    ");\n",
    "\n",
    "CREATE TABLE category (\n",
    "    \"category_id\" varchar(10) NOT NULL,\n",
    "    \"category\" varchar(30) NOT NULL\n",
    ");\n",
    "\n",
    "CREATE TABLE subcategory (\n",
    "    \"subcategory_id\" varchar(10) NOT NULL,\n",
    "    \"subcategory\" varchar(30) NOT NULL\n",
    ");\n",
    "\n",
    "CREATE TABLE contacts (\n",
    "    \"contact_id\" int NOT NULL,\n",
    "    \"name\" varchar(100) NOT NULL,\n",
    "    \"first_name\" varchar(30) NOT NULL,\n",
    "    \"last_name\" varchar(30) NOT NULL,\n",
    "    \"email\" varchar(50) NOT NULL UNIQUE\n",
    ");"
   ]
  }
 ],
 "metadata": {
  "kernelspec": {
   "display_name": "Python 3 (ipykernel)",
   "language": "python",
   "name": "python3"
  },
  "language_info": {
   "codemirror_mode": {
    "name": "ipython",
    "version": 3
   },
   "file_extension": ".py",
   "mimetype": "text/x-python",
   "name": "python",
   "nbconvert_exporter": "python",
   "pygments_lexer": "ipython3",
   "version": "3.12.3"
  }
 },
 "nbformat": 4,
 "nbformat_minor": 5
}
