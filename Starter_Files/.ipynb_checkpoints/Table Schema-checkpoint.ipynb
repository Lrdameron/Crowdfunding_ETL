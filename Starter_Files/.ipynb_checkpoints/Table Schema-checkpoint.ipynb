{
 "cells": [
  {
   "cell_type": "code",
   "execution_count": null,
   "id": "4fcc4050-8fca-4f7c-9a49-9cdd2c97f121",
   "metadata": {},
   "outputs": [],
   "source": [
    "CREATE TABLE \"Campaign\" (\n",
    "    \"cf_id\" int NOT NULL,\n",
    "    \"contact_id\" int NOT NULL,\n",
    "    \"company_name\" varchar(200) NOT NULL,\n",
    "    \"description\" text NOT NULL,\n",
    "    \"goal\" numeric(10,2) NOT NULL,\n",
    "    \"pledged\" numeric(10,2) NOT NULL,"
   ]
  }
 ],
 "metadata": {
  "kernelspec": {
   "display_name": "Python 3 (ipykernel)",
   "language": "python",
   "name": "python3"
  },
  "language_info": {
   "codemirror_mode": {
    "name": "ipython",
    "version": 3
   },
   "file_extension": ".py",
   "mimetype": "text/x-python",
   "name": "python",
   "nbconvert_exporter": "python",
   "pygments_lexer": "ipython3",
   "version": "3.12.3"
  }
 },
 "nbformat": 4,
 "nbformat_minor": 5
}
